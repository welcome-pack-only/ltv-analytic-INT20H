{
 "cells": [
  {
   "cell_type": "code",
   "execution_count": 3,
   "metadata": {},
   "outputs": [],
   "source": [
    "import pandas as pd\n",
    "import numpy as np"
   ]
  },
  {
   "cell_type": "code",
   "execution_count": 4,
   "metadata": {},
   "outputs": [],
   "source": [
    "from pathlib import Path"
   ]
  },
  {
   "cell_type": "code",
   "execution_count": 12,
   "metadata": {},
   "outputs": [],
   "source": [
    "ROOT_DIR = Path('..')\n",
    "PATH2DATA = Path('../data')"
   ]
  },
  {
   "cell_type": "code",
   "execution_count": 15,
   "metadata": {},
   "outputs": [
    {
     "data": {
      "text/plain": [
       "(2380, 18)"
      ]
     },
     "execution_count": 15,
     "metadata": {},
     "output_type": "execute_result"
    }
   ],
   "source": [
    "data = pd.read_csv(PATH2DATA / 'data_analytics.csv')\n",
    "data.shape"
   ]
  },
  {
   "cell_type": "code",
   "execution_count": 54,
   "metadata": {},
   "outputs": [
    {
     "name": "stdout",
     "output_type": "stream",
     "text": [
      "<class 'pandas.core.frame.DataFrame'>\n",
      "RangeIndex: 2380 entries, 0 to 2379\n",
      "Data columns (total 18 columns):\n",
      " #   Column                          Non-Null Count  Dtype  \n",
      "---  ------                          --------------  -----  \n",
      " 0   Event Date                      2380 non-null   object \n",
      " 1   App Apple ID                    2380 non-null   int64  \n",
      " 2   Subscription Name               2380 non-null   object \n",
      " 3   Standard Subscription Duration  2380 non-null   object \n",
      " 4   Promotional Offer Name          0 non-null      float64\n",
      " 5   Promotional Offer ID            0 non-null      float64\n",
      " 6   Subscription Offer Type         1019 non-null   object \n",
      " 7   Subscription Offer Duration     1019 non-null   object \n",
      " 8   Marketing Opt-In Duration       0 non-null      float64\n",
      " 9   Customer Currency               2380 non-null   object \n",
      " 10  Proceeds Currency               2380 non-null   object \n",
      " 11  Device                          2380 non-null   object \n",
      " 12  Country                         2373 non-null   object \n",
      " 13  Subscriber ID                   2380 non-null   int64  \n",
      " 14  Subscriber ID Reset             4 non-null      object \n",
      " 15  Refund                          0 non-null      float64\n",
      " 16  Purchase Date                   0 non-null      float64\n",
      " 17  Units                           2380 non-null   int64  \n",
      "dtypes: float64(5), int64(3), object(10)\n",
      "memory usage: 334.8+ KB\n"
     ]
    }
   ],
   "source": [
    "data.info()"
   ]
  },
  {
   "cell_type": "code",
   "execution_count": 16,
   "metadata": {},
   "outputs": [
    {
     "name": "stdout",
     "output_type": "stream",
     "text": [
      "Number of unique users = 1019\n"
     ]
    }
   ],
   "source": [
    "print('Number of unique users = %d' % len(data['Subscriber ID'].unique()))"
   ]
  },
  {
   "cell_type": "markdown",
   "metadata": {},
   "source": [
    "**User per date distribution:**"
   ]
  },
  {
   "cell_type": "code",
   "execution_count": 24,
   "metadata": {},
   "outputs": [
    {
     "data": {
      "text/html": [
       "<div>\n",
       "<style scoped>\n",
       "    .dataframe tbody tr th:only-of-type {\n",
       "        vertical-align: middle;\n",
       "    }\n",
       "\n",
       "    .dataframe tbody tr th {\n",
       "        vertical-align: top;\n",
       "    }\n",
       "\n",
       "    .dataframe thead th {\n",
       "        text-align: right;\n",
       "    }\n",
       "</style>\n",
       "<table border=\"1\" class=\"dataframe\">\n",
       "  <thead>\n",
       "    <tr style=\"text-align: right;\">\n",
       "      <th></th>\n",
       "      <th>cnt</th>\n",
       "    </tr>\n",
       "    <tr>\n",
       "      <th>Event Date</th>\n",
       "      <th></th>\n",
       "    </tr>\n",
       "  </thead>\n",
       "  <tbody>\n",
       "    <tr>\n",
       "      <th>2019-07-15</th>\n",
       "      <td>148</td>\n",
       "    </tr>\n",
       "    <tr>\n",
       "      <th>2019-07-16</th>\n",
       "      <td>131</td>\n",
       "    </tr>\n",
       "    <tr>\n",
       "      <th>2019-07-17</th>\n",
       "      <td>127</td>\n",
       "    </tr>\n",
       "    <tr>\n",
       "      <th>2019-07-18</th>\n",
       "      <td>281</td>\n",
       "    </tr>\n",
       "    <tr>\n",
       "      <th>2019-07-19</th>\n",
       "      <td>140</td>\n",
       "    </tr>\n",
       "    <tr>\n",
       "      <th>2019-07-20</th>\n",
       "      <td>192</td>\n",
       "    </tr>\n",
       "    <tr>\n",
       "      <th>2019-07-22</th>\n",
       "      <td>116</td>\n",
       "    </tr>\n",
       "    <tr>\n",
       "      <th>2019-07-23</th>\n",
       "      <td>76</td>\n",
       "    </tr>\n",
       "    <tr>\n",
       "      <th>2019-07-24</th>\n",
       "      <td>49</td>\n",
       "    </tr>\n",
       "    <tr>\n",
       "      <th>2019-07-25</th>\n",
       "      <td>81</td>\n",
       "    </tr>\n",
       "  </tbody>\n",
       "</table>\n",
       "</div>"
      ],
      "text/plain": [
       "            cnt\n",
       "Event Date     \n",
       "2019-07-15  148\n",
       "2019-07-16  131\n",
       "2019-07-17  127\n",
       "2019-07-18  281\n",
       "2019-07-19  140\n",
       "2019-07-20  192\n",
       "2019-07-22  116\n",
       "2019-07-23   76\n",
       "2019-07-24   49\n",
       "2019-07-25   81"
      ]
     },
     "execution_count": 24,
     "metadata": {},
     "output_type": "execute_result"
    }
   ],
   "source": [
    "data[['Event Date']].groupby('Event Date').agg(cnt=('Event Date', len)).sort_index().head(n=10)"
   ]
  },
  {
   "cell_type": "code",
   "execution_count": 32,
   "metadata": {},
   "outputs": [
    {
     "data": {
      "text/plain": [
       "6.992999999999999"
      ]
     },
     "execution_count": 32,
     "metadata": {},
     "output_type": "execute_result"
    }
   ],
   "source": [
    "DEV_PRECEDS = 9.99 * (1 - 0.3)\n",
    "DEV_PRECEDS"
   ]
  },
  {
   "cell_type": "markdown",
   "metadata": {},
   "source": [
    "**Users with 'Subscriber ID Reset' = Yes**"
   ]
  },
  {
   "cell_type": "code",
   "execution_count": 46,
   "metadata": {},
   "outputs": [],
   "source": [
    "sr_users = data[data['Subscriber ID Reset'].notna()][['Subscriber ID']].drop_duplicates()"
   ]
  },
  {
   "cell_type": "code",
   "execution_count": 47,
   "metadata": {},
   "outputs": [
    {
     "data": {
      "text/plain": [
       "array([223411322456765550, 223411322456766205])"
      ]
     },
     "execution_count": 47,
     "metadata": {},
     "output_type": "execute_result"
    }
   ],
   "source": [
    "data.merge(sr_users, on='Subscriber ID')['Subscriber ID'].unique()"
   ]
  },
  {
   "cell_type": "code",
   "execution_count": 48,
   "metadata": {},
   "outputs": [
    {
     "data": {
      "text/html": [
       "<div>\n",
       "<style scoped>\n",
       "    .dataframe tbody tr th:only-of-type {\n",
       "        vertical-align: middle;\n",
       "    }\n",
       "\n",
       "    .dataframe tbody tr th {\n",
       "        vertical-align: top;\n",
       "    }\n",
       "\n",
       "    .dataframe thead th {\n",
       "        text-align: right;\n",
       "    }\n",
       "</style>\n",
       "<table border=\"1\" class=\"dataframe\">\n",
       "  <thead>\n",
       "    <tr style=\"text-align: right;\">\n",
       "      <th></th>\n",
       "      <th>Event Date</th>\n",
       "      <th>App Apple ID</th>\n",
       "      <th>Subscription Name</th>\n",
       "      <th>Standard Subscription Duration</th>\n",
       "      <th>Promotional Offer Name</th>\n",
       "      <th>Promotional Offer ID</th>\n",
       "      <th>Subscription Offer Type</th>\n",
       "      <th>Subscription Offer Duration</th>\n",
       "      <th>Marketing Opt-In Duration</th>\n",
       "      <th>Customer Currency</th>\n",
       "      <th>Proceeds Currency</th>\n",
       "      <th>Device</th>\n",
       "      <th>Country</th>\n",
       "      <th>Subscriber ID</th>\n",
       "      <th>Subscriber ID Reset</th>\n",
       "      <th>Refund</th>\n",
       "      <th>Purchase Date</th>\n",
       "      <th>Units</th>\n",
       "    </tr>\n",
       "  </thead>\n",
       "  <tbody>\n",
       "    <tr>\n",
       "      <th>0</th>\n",
       "      <td>2019-07-15</td>\n",
       "      <td>1</td>\n",
       "      <td>weekly 9.99 + 7D trial</td>\n",
       "      <td>7 Days</td>\n",
       "      <td>NaN</td>\n",
       "      <td>NaN</td>\n",
       "      <td>Free Trial</td>\n",
       "      <td>7 Days</td>\n",
       "      <td>NaN</td>\n",
       "      <td>IDR</td>\n",
       "      <td>IDR</td>\n",
       "      <td>iPhone</td>\n",
       "      <td>ID</td>\n",
       "      <td>223411322456765550</td>\n",
       "      <td>Yes</td>\n",
       "      <td>NaN</td>\n",
       "      <td>NaN</td>\n",
       "      <td>1</td>\n",
       "    </tr>\n",
       "    <tr>\n",
       "      <th>1</th>\n",
       "      <td>2019-07-22</td>\n",
       "      <td>1</td>\n",
       "      <td>weekly 9.99 + 7D trial</td>\n",
       "      <td>7 Days</td>\n",
       "      <td>NaN</td>\n",
       "      <td>NaN</td>\n",
       "      <td>NaN</td>\n",
       "      <td>NaN</td>\n",
       "      <td>NaN</td>\n",
       "      <td>IDR</td>\n",
       "      <td>IDR</td>\n",
       "      <td>iPhone</td>\n",
       "      <td>ID</td>\n",
       "      <td>223411322456765550</td>\n",
       "      <td>Yes</td>\n",
       "      <td>NaN</td>\n",
       "      <td>NaN</td>\n",
       "      <td>1</td>\n",
       "    </tr>\n",
       "    <tr>\n",
       "      <th>2</th>\n",
       "      <td>2019-07-29</td>\n",
       "      <td>1</td>\n",
       "      <td>weekly 9.99 + 7D trial</td>\n",
       "      <td>7 Days</td>\n",
       "      <td>NaN</td>\n",
       "      <td>NaN</td>\n",
       "      <td>NaN</td>\n",
       "      <td>NaN</td>\n",
       "      <td>NaN</td>\n",
       "      <td>IDR</td>\n",
       "      <td>IDR</td>\n",
       "      <td>iPhone</td>\n",
       "      <td>ID</td>\n",
       "      <td>223411322456765550</td>\n",
       "      <td>Yes</td>\n",
       "      <td>NaN</td>\n",
       "      <td>NaN</td>\n",
       "      <td>1</td>\n",
       "    </tr>\n",
       "    <tr>\n",
       "      <th>3</th>\n",
       "      <td>2019-07-18</td>\n",
       "      <td>1</td>\n",
       "      <td>weekly 9.99 + 7D trial</td>\n",
       "      <td>7 Days</td>\n",
       "      <td>NaN</td>\n",
       "      <td>NaN</td>\n",
       "      <td>Free Trial</td>\n",
       "      <td>7 Days</td>\n",
       "      <td>NaN</td>\n",
       "      <td>RUB</td>\n",
       "      <td>RUB</td>\n",
       "      <td>iPhone</td>\n",
       "      <td>RU</td>\n",
       "      <td>223411322456766205</td>\n",
       "      <td>Yes</td>\n",
       "      <td>NaN</td>\n",
       "      <td>NaN</td>\n",
       "      <td>1</td>\n",
       "    </tr>\n",
       "  </tbody>\n",
       "</table>\n",
       "</div>"
      ],
      "text/plain": [
       "   Event Date  App Apple ID       Subscription Name  \\\n",
       "0  2019-07-15             1  weekly 9.99 + 7D trial   \n",
       "1  2019-07-22             1  weekly 9.99 + 7D trial   \n",
       "2  2019-07-29             1  weekly 9.99 + 7D trial   \n",
       "3  2019-07-18             1  weekly 9.99 + 7D trial   \n",
       "\n",
       "  Standard Subscription Duration  Promotional Offer Name  \\\n",
       "0                         7 Days                     NaN   \n",
       "1                         7 Days                     NaN   \n",
       "2                         7 Days                     NaN   \n",
       "3                         7 Days                     NaN   \n",
       "\n",
       "   Promotional Offer ID Subscription Offer Type Subscription Offer Duration  \\\n",
       "0                   NaN              Free Trial                      7 Days   \n",
       "1                   NaN                     NaN                         NaN   \n",
       "2                   NaN                     NaN                         NaN   \n",
       "3                   NaN              Free Trial                      7 Days   \n",
       "\n",
       "   Marketing Opt-In Duration Customer Currency Proceeds Currency  Device  \\\n",
       "0                        NaN               IDR               IDR  iPhone   \n",
       "1                        NaN               IDR               IDR  iPhone   \n",
       "2                        NaN               IDR               IDR  iPhone   \n",
       "3                        NaN               RUB               RUB  iPhone   \n",
       "\n",
       "  Country       Subscriber ID Subscriber ID Reset  Refund  Purchase Date  \\\n",
       "0      ID  223411322456765550                 Yes     NaN            NaN   \n",
       "1      ID  223411322456765550                 Yes     NaN            NaN   \n",
       "2      ID  223411322456765550                 Yes     NaN            NaN   \n",
       "3      RU  223411322456766205                 Yes     NaN            NaN   \n",
       "\n",
       "   Units  \n",
       "0      1  \n",
       "1      1  \n",
       "2      1  \n",
       "3      1  "
      ]
     },
     "execution_count": 48,
     "metadata": {},
     "output_type": "execute_result"
    }
   ],
   "source": [
    "data.merge(sr_users, on='Subscriber ID')"
   ]
  },
  {
   "cell_type": "code",
   "execution_count": 45,
   "metadata": {},
   "outputs": [
    {
     "data": {
      "text/html": [
       "<div>\n",
       "<style scoped>\n",
       "    .dataframe tbody tr th:only-of-type {\n",
       "        vertical-align: middle;\n",
       "    }\n",
       "\n",
       "    .dataframe tbody tr th {\n",
       "        vertical-align: top;\n",
       "    }\n",
       "\n",
       "    .dataframe thead th {\n",
       "        text-align: right;\n",
       "    }\n",
       "</style>\n",
       "<table border=\"1\" class=\"dataframe\">\n",
       "  <thead>\n",
       "    <tr style=\"text-align: right;\">\n",
       "      <th></th>\n",
       "      <th>Event Date</th>\n",
       "      <th>App Apple ID</th>\n",
       "      <th>Subscription Name</th>\n",
       "      <th>Standard Subscription Duration</th>\n",
       "      <th>Promotional Offer Name</th>\n",
       "      <th>Promotional Offer ID</th>\n",
       "      <th>Subscription Offer Type</th>\n",
       "      <th>Subscription Offer Duration</th>\n",
       "      <th>Marketing Opt-In Duration</th>\n",
       "      <th>Customer Currency</th>\n",
       "      <th>Proceeds Currency</th>\n",
       "      <th>Device</th>\n",
       "      <th>Country</th>\n",
       "      <th>Subscriber ID</th>\n",
       "      <th>Subscriber ID Reset</th>\n",
       "      <th>Refund</th>\n",
       "      <th>Purchase Date</th>\n",
       "      <th>Units</th>\n",
       "    </tr>\n",
       "  </thead>\n",
       "  <tbody>\n",
       "    <tr>\n",
       "      <th>86</th>\n",
       "      <td>2019-07-15</td>\n",
       "      <td>1</td>\n",
       "      <td>weekly 9.99 + 7D trial</td>\n",
       "      <td>7 Days</td>\n",
       "      <td>NaN</td>\n",
       "      <td>NaN</td>\n",
       "      <td>Free Trial</td>\n",
       "      <td>7 Days</td>\n",
       "      <td>NaN</td>\n",
       "      <td>IDR</td>\n",
       "      <td>IDR</td>\n",
       "      <td>iPhone</td>\n",
       "      <td>ID</td>\n",
       "      <td>223411322456765550</td>\n",
       "      <td>Yes</td>\n",
       "      <td>NaN</td>\n",
       "      <td>NaN</td>\n",
       "      <td>1</td>\n",
       "    </tr>\n",
       "    <tr>\n",
       "      <th>1105</th>\n",
       "      <td>2019-07-22</td>\n",
       "      <td>1</td>\n",
       "      <td>weekly 9.99 + 7D trial</td>\n",
       "      <td>7 Days</td>\n",
       "      <td>NaN</td>\n",
       "      <td>NaN</td>\n",
       "      <td>NaN</td>\n",
       "      <td>NaN</td>\n",
       "      <td>NaN</td>\n",
       "      <td>IDR</td>\n",
       "      <td>IDR</td>\n",
       "      <td>iPhone</td>\n",
       "      <td>ID</td>\n",
       "      <td>223411322456765550</td>\n",
       "      <td>Yes</td>\n",
       "      <td>NaN</td>\n",
       "      <td>NaN</td>\n",
       "      <td>1</td>\n",
       "    </tr>\n",
       "    <tr>\n",
       "      <th>1604</th>\n",
       "      <td>2019-07-29</td>\n",
       "      <td>1</td>\n",
       "      <td>weekly 9.99 + 7D trial</td>\n",
       "      <td>7 Days</td>\n",
       "      <td>NaN</td>\n",
       "      <td>NaN</td>\n",
       "      <td>NaN</td>\n",
       "      <td>NaN</td>\n",
       "      <td>NaN</td>\n",
       "      <td>IDR</td>\n",
       "      <td>IDR</td>\n",
       "      <td>iPhone</td>\n",
       "      <td>ID</td>\n",
       "      <td>223411322456765550</td>\n",
       "      <td>Yes</td>\n",
       "      <td>NaN</td>\n",
       "      <td>NaN</td>\n",
       "      <td>1</td>\n",
       "    </tr>\n",
       "  </tbody>\n",
       "</table>\n",
       "</div>"
      ],
      "text/plain": [
       "      Event Date  App Apple ID       Subscription Name  \\\n",
       "86    2019-07-15             1  weekly 9.99 + 7D trial   \n",
       "1105  2019-07-22             1  weekly 9.99 + 7D trial   \n",
       "1604  2019-07-29             1  weekly 9.99 + 7D trial   \n",
       "\n",
       "     Standard Subscription Duration  Promotional Offer Name  \\\n",
       "86                           7 Days                     NaN   \n",
       "1105                         7 Days                     NaN   \n",
       "1604                         7 Days                     NaN   \n",
       "\n",
       "      Promotional Offer ID Subscription Offer Type  \\\n",
       "86                     NaN              Free Trial   \n",
       "1105                   NaN                     NaN   \n",
       "1604                   NaN                     NaN   \n",
       "\n",
       "     Subscription Offer Duration  Marketing Opt-In Duration Customer Currency  \\\n",
       "86                        7 Days                        NaN               IDR   \n",
       "1105                         NaN                        NaN               IDR   \n",
       "1604                         NaN                        NaN               IDR   \n",
       "\n",
       "     Proceeds Currency  Device Country       Subscriber ID  \\\n",
       "86                 IDR  iPhone      ID  223411322456765550   \n",
       "1105               IDR  iPhone      ID  223411322456765550   \n",
       "1604               IDR  iPhone      ID  223411322456765550   \n",
       "\n",
       "     Subscriber ID Reset  Refund  Purchase Date  Units  \n",
       "86                   Yes     NaN            NaN      1  \n",
       "1105                 Yes     NaN            NaN      1  \n",
       "1604                 Yes     NaN            NaN      1  "
      ]
     },
     "execution_count": 45,
     "metadata": {},
     "output_type": "execute_result"
    }
   ],
   "source": [
    "data[data['Subscriber ID'] == 223411322456765550]"
   ]
  },
  {
   "cell_type": "markdown",
   "metadata": {},
   "source": []
  },
  {
   "cell_type": "code",
   "execution_count": 84,
   "metadata": {},
   "outputs": [
    {
     "data": {
      "text/plain": [
       "((2380, 2), (2380, 2))"
      ]
     },
     "execution_count": 84,
     "metadata": {},
     "output_type": "execute_result"
    }
   ],
   "source": [
    "data[['Subscriber ID', 'Event Date']].shape, data[['Subscriber ID', 'Event Date']].drop_duplicates().shape"
   ]
  },
  {
   "cell_type": "code",
   "execution_count": 60,
   "metadata": {},
   "outputs": [
    {
     "data": {
      "text/plain": [
       "1019"
      ]
     },
     "execution_count": 60,
     "metadata": {},
     "output_type": "execute_result"
    }
   ],
   "source": [
    "users_free = data[data['Subscription Offer Type'].notna()]['Subscriber ID'].unique()\n",
    "len(users_free)"
   ]
  },
  {
   "cell_type": "code",
   "execution_count": 61,
   "metadata": {},
   "outputs": [
    {
     "data": {
      "text/plain": [
       "499"
      ]
     },
     "execution_count": 61,
     "metadata": {},
     "output_type": "execute_result"
    }
   ],
   "source": [
    "users_paid = data[data['Subscription Offer Type'].isna()]['Subscriber ID'].unique()\n",
    "len(users_paid)"
   ]
  },
  {
   "cell_type": "code",
   "execution_count": 62,
   "metadata": {},
   "outputs": [
    {
     "data": {
      "text/plain": [
       "499"
      ]
     },
     "execution_count": 62,
     "metadata": {},
     "output_type": "execute_result"
    }
   ],
   "source": [
    "len(set(users_free).intersection(users_paid))"
   ]
  },
  {
   "cell_type": "code",
   "execution_count": 66,
   "metadata": {},
   "outputs": [
    {
     "data": {
      "text/plain": [
       "array(['iPhone', 'iPad'], dtype=object)"
      ]
     },
     "execution_count": 66,
     "metadata": {},
     "output_type": "execute_result"
    }
   ],
   "source": [
    "data['Device'].unique()"
   ]
  },
  {
   "cell_type": "code",
   "execution_count": 70,
   "metadata": {},
   "outputs": [
    {
     "data": {
      "text/plain": [
       "0"
      ]
     },
     "execution_count": 70,
     "metadata": {},
     "output_type": "execute_result"
    }
   ],
   "source": [
    "sum(data.groupby(['Subscriber ID', 'Event Date']).agg(cnt=('Device', len)).cnt > 1)"
   ]
  },
  {
   "cell_type": "code",
   "execution_count": 81,
   "metadata": {},
   "outputs": [
    {
     "data": {
      "text/plain": [
       "0"
      ]
     },
     "execution_count": 81,
     "metadata": {},
     "output_type": "execute_result"
    }
   ],
   "source": [
    "sum(data[['Subscriber ID', 'Device']].drop_duplicates().groupby(['Subscriber ID']).agg(cnt=('Device', len)).cnt > 1)"
   ]
  },
  {
   "cell_type": "code",
   "execution_count": 82,
   "metadata": {},
   "outputs": [],
   "source": [
    "def ltv_iterative(df: pd.DataFrame) -> pd.DataFrame:\n",
    "    pass"
   ]
  },
  {
   "cell_type": "code",
   "execution_count": 83,
   "metadata": {},
   "outputs": [
    {
     "data": {
      "text/html": [
       "<div>\n",
       "<style scoped>\n",
       "    .dataframe tbody tr th:only-of-type {\n",
       "        vertical-align: middle;\n",
       "    }\n",
       "\n",
       "    .dataframe tbody tr th {\n",
       "        vertical-align: top;\n",
       "    }\n",
       "\n",
       "    .dataframe thead th {\n",
       "        text-align: right;\n",
       "    }\n",
       "</style>\n",
       "<table border=\"1\" class=\"dataframe\">\n",
       "  <thead>\n",
       "    <tr style=\"text-align: right;\">\n",
       "      <th></th>\n",
       "      <th>Event Date</th>\n",
       "      <th>App Apple ID</th>\n",
       "      <th>Subscription Name</th>\n",
       "      <th>Standard Subscription Duration</th>\n",
       "      <th>Promotional Offer Name</th>\n",
       "      <th>Promotional Offer ID</th>\n",
       "      <th>Subscription Offer Type</th>\n",
       "      <th>Subscription Offer Duration</th>\n",
       "      <th>Marketing Opt-In Duration</th>\n",
       "      <th>Customer Currency</th>\n",
       "      <th>Proceeds Currency</th>\n",
       "      <th>Device</th>\n",
       "      <th>Country</th>\n",
       "      <th>Subscriber ID</th>\n",
       "      <th>Subscriber ID Reset</th>\n",
       "      <th>Refund</th>\n",
       "      <th>Purchase Date</th>\n",
       "      <th>Units</th>\n",
       "    </tr>\n",
       "  </thead>\n",
       "  <tbody>\n",
       "    <tr>\n",
       "      <th>0</th>\n",
       "      <td>2019-07-15</td>\n",
       "      <td>1</td>\n",
       "      <td>weekly 9.99 + 7D trial</td>\n",
       "      <td>7 Days</td>\n",
       "      <td>NaN</td>\n",
       "      <td>NaN</td>\n",
       "      <td>Free Trial</td>\n",
       "      <td>7 Days</td>\n",
       "      <td>NaN</td>\n",
       "      <td>IDR</td>\n",
       "      <td>IDR</td>\n",
       "      <td>iPhone</td>\n",
       "      <td>ID</td>\n",
       "      <td>223411322456765433</td>\n",
       "      <td>NaN</td>\n",
       "      <td>NaN</td>\n",
       "      <td>NaN</td>\n",
       "      <td>1</td>\n",
       "    </tr>\n",
       "    <tr>\n",
       "      <th>1</th>\n",
       "      <td>2019-07-15</td>\n",
       "      <td>1</td>\n",
       "      <td>weekly 9.99 + 7D trial</td>\n",
       "      <td>7 Days</td>\n",
       "      <td>NaN</td>\n",
       "      <td>NaN</td>\n",
       "      <td>Free Trial</td>\n",
       "      <td>7 Days</td>\n",
       "      <td>NaN</td>\n",
       "      <td>USD</td>\n",
       "      <td>USD</td>\n",
       "      <td>iPhone</td>\n",
       "      <td>US</td>\n",
       "      <td>223411322456765434</td>\n",
       "      <td>NaN</td>\n",
       "      <td>NaN</td>\n",
       "      <td>NaN</td>\n",
       "      <td>1</td>\n",
       "    </tr>\n",
       "    <tr>\n",
       "      <th>2</th>\n",
       "      <td>2019-07-15</td>\n",
       "      <td>1</td>\n",
       "      <td>weekly 9.99 + 7D trial</td>\n",
       "      <td>7 Days</td>\n",
       "      <td>NaN</td>\n",
       "      <td>NaN</td>\n",
       "      <td>Free Trial</td>\n",
       "      <td>7 Days</td>\n",
       "      <td>NaN</td>\n",
       "      <td>INR</td>\n",
       "      <td>INR</td>\n",
       "      <td>iPhone</td>\n",
       "      <td>IN</td>\n",
       "      <td>223411322456765435</td>\n",
       "      <td>NaN</td>\n",
       "      <td>NaN</td>\n",
       "      <td>NaN</td>\n",
       "      <td>1</td>\n",
       "    </tr>\n",
       "    <tr>\n",
       "      <th>3</th>\n",
       "      <td>2019-07-15</td>\n",
       "      <td>1</td>\n",
       "      <td>weekly 9.99 + 7D trial</td>\n",
       "      <td>7 Days</td>\n",
       "      <td>NaN</td>\n",
       "      <td>NaN</td>\n",
       "      <td>Free Trial</td>\n",
       "      <td>7 Days</td>\n",
       "      <td>NaN</td>\n",
       "      <td>GBP</td>\n",
       "      <td>GBP</td>\n",
       "      <td>iPhone</td>\n",
       "      <td>GB</td>\n",
       "      <td>223411322456765437</td>\n",
       "      <td>NaN</td>\n",
       "      <td>NaN</td>\n",
       "      <td>NaN</td>\n",
       "      <td>1</td>\n",
       "    </tr>\n",
       "    <tr>\n",
       "      <th>4</th>\n",
       "      <td>2019-07-15</td>\n",
       "      <td>1</td>\n",
       "      <td>weekly 9.99 + 7D trial</td>\n",
       "      <td>7 Days</td>\n",
       "      <td>NaN</td>\n",
       "      <td>NaN</td>\n",
       "      <td>Free Trial</td>\n",
       "      <td>7 Days</td>\n",
       "      <td>NaN</td>\n",
       "      <td>INR</td>\n",
       "      <td>INR</td>\n",
       "      <td>iPhone</td>\n",
       "      <td>IN</td>\n",
       "      <td>223411322456765438</td>\n",
       "      <td>NaN</td>\n",
       "      <td>NaN</td>\n",
       "      <td>NaN</td>\n",
       "      <td>1</td>\n",
       "    </tr>\n",
       "    <tr>\n",
       "      <th>...</th>\n",
       "      <td>...</td>\n",
       "      <td>...</td>\n",
       "      <td>...</td>\n",
       "      <td>...</td>\n",
       "      <td>...</td>\n",
       "      <td>...</td>\n",
       "      <td>...</td>\n",
       "      <td>...</td>\n",
       "      <td>...</td>\n",
       "      <td>...</td>\n",
       "      <td>...</td>\n",
       "      <td>...</td>\n",
       "      <td>...</td>\n",
       "      <td>...</td>\n",
       "      <td>...</td>\n",
       "      <td>...</td>\n",
       "      <td>...</td>\n",
       "      <td>...</td>\n",
       "    </tr>\n",
       "    <tr>\n",
       "      <th>2375</th>\n",
       "      <td>2019-08-24</td>\n",
       "      <td>1</td>\n",
       "      <td>weekly 9.99 + 7D trial</td>\n",
       "      <td>7 Days</td>\n",
       "      <td>NaN</td>\n",
       "      <td>NaN</td>\n",
       "      <td>NaN</td>\n",
       "      <td>NaN</td>\n",
       "      <td>NaN</td>\n",
       "      <td>MYR</td>\n",
       "      <td>MYR</td>\n",
       "      <td>iPhone</td>\n",
       "      <td>MY</td>\n",
       "      <td>223411322456766566</td>\n",
       "      <td>NaN</td>\n",
       "      <td>NaN</td>\n",
       "      <td>NaN</td>\n",
       "      <td>1</td>\n",
       "    </tr>\n",
       "    <tr>\n",
       "      <th>2376</th>\n",
       "      <td>2019-08-24</td>\n",
       "      <td>1</td>\n",
       "      <td>weekly 9.99 + 7D trial</td>\n",
       "      <td>7 Days</td>\n",
       "      <td>NaN</td>\n",
       "      <td>NaN</td>\n",
       "      <td>NaN</td>\n",
       "      <td>NaN</td>\n",
       "      <td>NaN</td>\n",
       "      <td>USD</td>\n",
       "      <td>USD</td>\n",
       "      <td>iPhone</td>\n",
       "      <td>US</td>\n",
       "      <td>223411322456766569</td>\n",
       "      <td>NaN</td>\n",
       "      <td>NaN</td>\n",
       "      <td>NaN</td>\n",
       "      <td>1</td>\n",
       "    </tr>\n",
       "    <tr>\n",
       "      <th>2377</th>\n",
       "      <td>2019-08-24</td>\n",
       "      <td>1</td>\n",
       "      <td>weekly 9.99 + 7D trial</td>\n",
       "      <td>7 Days</td>\n",
       "      <td>NaN</td>\n",
       "      <td>NaN</td>\n",
       "      <td>NaN</td>\n",
       "      <td>NaN</td>\n",
       "      <td>NaN</td>\n",
       "      <td>INR</td>\n",
       "      <td>INR</td>\n",
       "      <td>iPhone</td>\n",
       "      <td>IN</td>\n",
       "      <td>223411322456766571</td>\n",
       "      <td>NaN</td>\n",
       "      <td>NaN</td>\n",
       "      <td>NaN</td>\n",
       "      <td>1</td>\n",
       "    </tr>\n",
       "    <tr>\n",
       "      <th>2378</th>\n",
       "      <td>2019-08-24</td>\n",
       "      <td>1</td>\n",
       "      <td>weekly 9.99 + 7D trial</td>\n",
       "      <td>7 Days</td>\n",
       "      <td>NaN</td>\n",
       "      <td>NaN</td>\n",
       "      <td>NaN</td>\n",
       "      <td>NaN</td>\n",
       "      <td>NaN</td>\n",
       "      <td>USD</td>\n",
       "      <td>USD</td>\n",
       "      <td>iPhone</td>\n",
       "      <td>US</td>\n",
       "      <td>223411322456766572</td>\n",
       "      <td>NaN</td>\n",
       "      <td>NaN</td>\n",
       "      <td>NaN</td>\n",
       "      <td>1</td>\n",
       "    </tr>\n",
       "    <tr>\n",
       "      <th>2379</th>\n",
       "      <td>2019-08-24</td>\n",
       "      <td>1</td>\n",
       "      <td>weekly 9.99 + 7D trial</td>\n",
       "      <td>7 Days</td>\n",
       "      <td>NaN</td>\n",
       "      <td>NaN</td>\n",
       "      <td>NaN</td>\n",
       "      <td>NaN</td>\n",
       "      <td>NaN</td>\n",
       "      <td>MYR</td>\n",
       "      <td>MYR</td>\n",
       "      <td>iPhone</td>\n",
       "      <td>MY</td>\n",
       "      <td>223411322456766573</td>\n",
       "      <td>NaN</td>\n",
       "      <td>NaN</td>\n",
       "      <td>NaN</td>\n",
       "      <td>1</td>\n",
       "    </tr>\n",
       "  </tbody>\n",
       "</table>\n",
       "<p>2380 rows × 18 columns</p>\n",
       "</div>"
      ],
      "text/plain": [
       "      Event Date  App Apple ID       Subscription Name  \\\n",
       "0     2019-07-15             1  weekly 9.99 + 7D trial   \n",
       "1     2019-07-15             1  weekly 9.99 + 7D trial   \n",
       "2     2019-07-15             1  weekly 9.99 + 7D trial   \n",
       "3     2019-07-15             1  weekly 9.99 + 7D trial   \n",
       "4     2019-07-15             1  weekly 9.99 + 7D trial   \n",
       "...          ...           ...                     ...   \n",
       "2375  2019-08-24             1  weekly 9.99 + 7D trial   \n",
       "2376  2019-08-24             1  weekly 9.99 + 7D trial   \n",
       "2377  2019-08-24             1  weekly 9.99 + 7D trial   \n",
       "2378  2019-08-24             1  weekly 9.99 + 7D trial   \n",
       "2379  2019-08-24             1  weekly 9.99 + 7D trial   \n",
       "\n",
       "     Standard Subscription Duration  Promotional Offer Name  \\\n",
       "0                            7 Days                     NaN   \n",
       "1                            7 Days                     NaN   \n",
       "2                            7 Days                     NaN   \n",
       "3                            7 Days                     NaN   \n",
       "4                            7 Days                     NaN   \n",
       "...                             ...                     ...   \n",
       "2375                         7 Days                     NaN   \n",
       "2376                         7 Days                     NaN   \n",
       "2377                         7 Days                     NaN   \n",
       "2378                         7 Days                     NaN   \n",
       "2379                         7 Days                     NaN   \n",
       "\n",
       "      Promotional Offer ID Subscription Offer Type  \\\n",
       "0                      NaN              Free Trial   \n",
       "1                      NaN              Free Trial   \n",
       "2                      NaN              Free Trial   \n",
       "3                      NaN              Free Trial   \n",
       "4                      NaN              Free Trial   \n",
       "...                    ...                     ...   \n",
       "2375                   NaN                     NaN   \n",
       "2376                   NaN                     NaN   \n",
       "2377                   NaN                     NaN   \n",
       "2378                   NaN                     NaN   \n",
       "2379                   NaN                     NaN   \n",
       "\n",
       "     Subscription Offer Duration  Marketing Opt-In Duration Customer Currency  \\\n",
       "0                         7 Days                        NaN               IDR   \n",
       "1                         7 Days                        NaN               USD   \n",
       "2                         7 Days                        NaN               INR   \n",
       "3                         7 Days                        NaN               GBP   \n",
       "4                         7 Days                        NaN               INR   \n",
       "...                          ...                        ...               ...   \n",
       "2375                         NaN                        NaN               MYR   \n",
       "2376                         NaN                        NaN               USD   \n",
       "2377                         NaN                        NaN               INR   \n",
       "2378                         NaN                        NaN               USD   \n",
       "2379                         NaN                        NaN               MYR   \n",
       "\n",
       "     Proceeds Currency  Device Country       Subscriber ID  \\\n",
       "0                  IDR  iPhone      ID  223411322456765433   \n",
       "1                  USD  iPhone      US  223411322456765434   \n",
       "2                  INR  iPhone      IN  223411322456765435   \n",
       "3                  GBP  iPhone      GB  223411322456765437   \n",
       "4                  INR  iPhone      IN  223411322456765438   \n",
       "...                ...     ...     ...                 ...   \n",
       "2375               MYR  iPhone      MY  223411322456766566   \n",
       "2376               USD  iPhone      US  223411322456766569   \n",
       "2377               INR  iPhone      IN  223411322456766571   \n",
       "2378               USD  iPhone      US  223411322456766572   \n",
       "2379               MYR  iPhone      MY  223411322456766573   \n",
       "\n",
       "     Subscriber ID Reset  Refund  Purchase Date  Units  \n",
       "0                    NaN     NaN            NaN      1  \n",
       "1                    NaN     NaN            NaN      1  \n",
       "2                    NaN     NaN            NaN      1  \n",
       "3                    NaN     NaN            NaN      1  \n",
       "4                    NaN     NaN            NaN      1  \n",
       "...                  ...     ...            ...    ...  \n",
       "2375                 NaN     NaN            NaN      1  \n",
       "2376                 NaN     NaN            NaN      1  \n",
       "2377                 NaN     NaN            NaN      1  \n",
       "2378                 NaN     NaN            NaN      1  \n",
       "2379                 NaN     NaN            NaN      1  \n",
       "\n",
       "[2380 rows x 18 columns]"
      ]
     },
     "execution_count": 83,
     "metadata": {},
     "output_type": "execute_result"
    }
   ],
   "source": [
    "data.groupby(['Subscriber ID'])"
   ]
  },
  {
   "cell_type": "code",
   "execution_count": 86,
   "metadata": {},
   "outputs": [],
   "source": [
    "data['Event Date'] = pd.to_datetime(data['Event Date']) "
   ]
  },
  {
   "cell_type": "code",
   "execution_count": 92,
   "metadata": {},
   "outputs": [],
   "source": [
    "ud = data[['Subscriber ID', 'Event Date']].drop_duplicates()"
   ]
  },
  {
   "cell_type": "code",
   "execution_count": 99,
   "metadata": {},
   "outputs": [],
   "source": [
    "ud['prev_value'] = ud.groupby('Subscriber ID')['Event Date'].shift()"
   ]
  },
  {
   "cell_type": "code",
   "execution_count": 102,
   "metadata": {},
   "outputs": [],
   "source": [
    "ud = ud.dropna()"
   ]
  },
  {
   "cell_type": "code",
   "execution_count": 105,
   "metadata": {},
   "outputs": [
    {
     "name": "stderr",
     "output_type": "stream",
     "text": [
      "<ipython-input-105-3e72dfd45732>:1: SettingWithCopyWarning: \n",
      "A value is trying to be set on a copy of a slice from a DataFrame.\n",
      "Try using .loc[row_indexer,col_indexer] = value instead\n",
      "\n",
      "See the caveats in the documentation: https://pandas.pydata.org/pandas-docs/stable/user_guide/indexing.html#returning-a-view-versus-a-copy\n",
      "  ud['diff'] = ud['Event Date'] - ud['prev_value']\n"
     ]
    }
   ],
   "source": [
    "ud['diff'] = ud['Event Date'] - ud['prev_value']"
   ]
  },
  {
   "cell_type": "code",
   "execution_count": 126,
   "metadata": {},
   "outputs": [
    {
     "data": {
      "text/html": [
       "<div>\n",
       "<style scoped>\n",
       "    .dataframe tbody tr th:only-of-type {\n",
       "        vertical-align: middle;\n",
       "    }\n",
       "\n",
       "    .dataframe tbody tr th {\n",
       "        vertical-align: top;\n",
       "    }\n",
       "\n",
       "    .dataframe thead th {\n",
       "        text-align: right;\n",
       "    }\n",
       "</style>\n",
       "<table border=\"1\" class=\"dataframe\">\n",
       "  <thead>\n",
       "    <tr style=\"text-align: right;\">\n",
       "      <th></th>\n",
       "      <th>diff</th>\n",
       "    </tr>\n",
       "  </thead>\n",
       "  <tbody>\n",
       "    <tr>\n",
       "      <th>1019</th>\n",
       "      <td>7 days</td>\n",
       "    </tr>\n",
       "    <tr>\n",
       "      <th>1959</th>\n",
       "      <td>8 days</td>\n",
       "    </tr>\n",
       "    <tr>\n",
       "      <th>2041</th>\n",
       "      <td>14 days</td>\n",
       "    </tr>\n",
       "  </tbody>\n",
       "</table>\n",
       "</div>"
      ],
      "text/plain": [
       "        diff\n",
       "1019  7 days\n",
       "1959  8 days\n",
       "2041 14 days"
      ]
     },
     "execution_count": 126,
     "metadata": {},
     "output_type": "execute_result"
    }
   ],
   "source": [
    "ud[['diff']].drop_duplicates()"
   ]
  },
  {
   "cell_type": "code",
   "execution_count": 138,
   "metadata": {},
   "outputs": [
    {
     "data": {
      "text/plain": [
       "Event Date                           2019-08-08 00:00:00\n",
       "App Apple ID                                           1\n",
       "Subscription Name                 weekly 9.99 + 7D trial\n",
       "Standard Subscription Duration                    7 Days\n",
       "Promotional Offer Name                               NaN\n",
       "Promotional Offer ID                                 NaN\n",
       "Subscription Offer Type                              NaN\n",
       "Subscription Offer Duration                          NaN\n",
       "Marketing Opt-In Duration                            NaN\n",
       "Customer Currency                                    AED\n",
       "Proceeds Currency                                    AED\n",
       "Device                                            iPhone\n",
       "Country                                               AE\n",
       "Subscriber ID                         223411322456766052\n",
       "Subscriber ID Reset                                  NaN\n",
       "Refund                                               NaN\n",
       "Purchase Date                                        NaN\n",
       "Units                                                  1\n",
       "prev_value                           2019-07-25 00:00:00\n",
       "Name: 2041, dtype: object"
      ]
     },
     "execution_count": 138,
     "metadata": {},
     "output_type": "execute_result"
    }
   ],
   "source": [
    "data.iloc[2041]"
   ]
  },
  {
   "cell_type": "code",
   "execution_count": 139,
   "metadata": {},
   "outputs": [
    {
     "data": {
      "text/html": [
       "<div>\n",
       "<style scoped>\n",
       "    .dataframe tbody tr th:only-of-type {\n",
       "        vertical-align: middle;\n",
       "    }\n",
       "\n",
       "    .dataframe tbody tr th {\n",
       "        vertical-align: top;\n",
       "    }\n",
       "\n",
       "    .dataframe thead th {\n",
       "        text-align: right;\n",
       "    }\n",
       "</style>\n",
       "<table border=\"1\" class=\"dataframe\">\n",
       "  <thead>\n",
       "    <tr style=\"text-align: right;\">\n",
       "      <th></th>\n",
       "      <th>Event Date</th>\n",
       "      <th>App Apple ID</th>\n",
       "      <th>Subscription Name</th>\n",
       "      <th>Standard Subscription Duration</th>\n",
       "      <th>Promotional Offer Name</th>\n",
       "      <th>Promotional Offer ID</th>\n",
       "      <th>Subscription Offer Type</th>\n",
       "      <th>Subscription Offer Duration</th>\n",
       "      <th>Marketing Opt-In Duration</th>\n",
       "      <th>Customer Currency</th>\n",
       "      <th>Proceeds Currency</th>\n",
       "      <th>Device</th>\n",
       "      <th>Country</th>\n",
       "      <th>Subscriber ID</th>\n",
       "      <th>Subscriber ID Reset</th>\n",
       "      <th>Refund</th>\n",
       "      <th>Purchase Date</th>\n",
       "      <th>Units</th>\n",
       "      <th>prev_value</th>\n",
       "    </tr>\n",
       "  </thead>\n",
       "  <tbody>\n",
       "    <tr>\n",
       "      <th>440</th>\n",
       "      <td>2019-07-18</td>\n",
       "      <td>1</td>\n",
       "      <td>weekly 9.99 + 7D trial</td>\n",
       "      <td>7 Days</td>\n",
       "      <td>NaN</td>\n",
       "      <td>NaN</td>\n",
       "      <td>Free Trial</td>\n",
       "      <td>7 Days</td>\n",
       "      <td>NaN</td>\n",
       "      <td>AED</td>\n",
       "      <td>AED</td>\n",
       "      <td>iPhone</td>\n",
       "      <td>AE</td>\n",
       "      <td>223411322456766052</td>\n",
       "      <td>NaN</td>\n",
       "      <td>NaN</td>\n",
       "      <td>NaN</td>\n",
       "      <td>1</td>\n",
       "      <td>NaT</td>\n",
       "    </tr>\n",
       "    <tr>\n",
       "      <th>1294</th>\n",
       "      <td>2019-07-25</td>\n",
       "      <td>1</td>\n",
       "      <td>weekly 9.99 + 7D trial</td>\n",
       "      <td>7 Days</td>\n",
       "      <td>NaN</td>\n",
       "      <td>NaN</td>\n",
       "      <td>NaN</td>\n",
       "      <td>NaN</td>\n",
       "      <td>NaN</td>\n",
       "      <td>AED</td>\n",
       "      <td>AED</td>\n",
       "      <td>iPhone</td>\n",
       "      <td>AE</td>\n",
       "      <td>223411322456766052</td>\n",
       "      <td>NaN</td>\n",
       "      <td>NaN</td>\n",
       "      <td>NaN</td>\n",
       "      <td>1</td>\n",
       "      <td>2019-07-18</td>\n",
       "    </tr>\n",
       "    <tr>\n",
       "      <th>2041</th>\n",
       "      <td>2019-08-08</td>\n",
       "      <td>1</td>\n",
       "      <td>weekly 9.99 + 7D trial</td>\n",
       "      <td>7 Days</td>\n",
       "      <td>NaN</td>\n",
       "      <td>NaN</td>\n",
       "      <td>NaN</td>\n",
       "      <td>NaN</td>\n",
       "      <td>NaN</td>\n",
       "      <td>AED</td>\n",
       "      <td>AED</td>\n",
       "      <td>iPhone</td>\n",
       "      <td>AE</td>\n",
       "      <td>223411322456766052</td>\n",
       "      <td>NaN</td>\n",
       "      <td>NaN</td>\n",
       "      <td>NaN</td>\n",
       "      <td>1</td>\n",
       "      <td>2019-07-25</td>\n",
       "    </tr>\n",
       "  </tbody>\n",
       "</table>\n",
       "</div>"
      ],
      "text/plain": [
       "     Event Date  App Apple ID       Subscription Name  \\\n",
       "440  2019-07-18             1  weekly 9.99 + 7D trial   \n",
       "1294 2019-07-25             1  weekly 9.99 + 7D trial   \n",
       "2041 2019-08-08             1  weekly 9.99 + 7D trial   \n",
       "\n",
       "     Standard Subscription Duration  Promotional Offer Name  \\\n",
       "440                          7 Days                     NaN   \n",
       "1294                         7 Days                     NaN   \n",
       "2041                         7 Days                     NaN   \n",
       "\n",
       "      Promotional Offer ID Subscription Offer Type  \\\n",
       "440                    NaN              Free Trial   \n",
       "1294                   NaN                     NaN   \n",
       "2041                   NaN                     NaN   \n",
       "\n",
       "     Subscription Offer Duration  Marketing Opt-In Duration Customer Currency  \\\n",
       "440                       7 Days                        NaN               AED   \n",
       "1294                         NaN                        NaN               AED   \n",
       "2041                         NaN                        NaN               AED   \n",
       "\n",
       "     Proceeds Currency  Device Country       Subscriber ID  \\\n",
       "440                AED  iPhone      AE  223411322456766052   \n",
       "1294               AED  iPhone      AE  223411322456766052   \n",
       "2041               AED  iPhone      AE  223411322456766052   \n",
       "\n",
       "     Subscriber ID Reset  Refund  Purchase Date  Units prev_value  \n",
       "440                  NaN     NaN            NaN      1        NaT  \n",
       "1294                 NaN     NaN            NaN      1 2019-07-18  \n",
       "2041                 NaN     NaN            NaN      1 2019-07-25  "
      ]
     },
     "execution_count": 139,
     "metadata": {},
     "output_type": "execute_result"
    }
   ],
   "source": [
    "data[data['Subscriber ID'] == 223411322456766052]"
   ]
  },
  {
   "cell_type": "code",
   "execution_count": null,
   "metadata": {},
   "outputs": [],
   "source": []
  },
  {
   "cell_type": "code",
   "execution_count": null,
   "metadata": {},
   "outputs": [],
   "source": []
  },
  {
   "cell_type": "code",
   "execution_count": null,
   "metadata": {},
   "outputs": [],
   "source": []
  },
  {
   "cell_type": "code",
   "execution_count": 165,
   "metadata": {},
   "outputs": [],
   "source": [
    "# user_reg = data[data['Subscription Offer Type'] == 'Free Trial'].groupby('Subscriber ID').agg(reg_dt=('Event Date', np.min)).rename(columns={'reg_dt': 'Event Date'})"
   ]
  },
  {
   "cell_type": "code",
   "execution_count": 162,
   "metadata": {},
   "outputs": [],
   "source": [
    "# user_reg['flag'] = 1"
   ]
  },
  {
   "cell_type": "code",
   "execution_count": 164,
   "metadata": {},
   "outputs": [],
   "source": [
    "# result = data.merge(user_reg, how='left', on=['Subscriber ID', 'Event Date'])"
   ]
  },
  {
   "cell_type": "code",
   "execution_count": 267,
   "metadata": {},
   "outputs": [],
   "source": [
    "result = data[data['Subscription Offer Type'] != 'Free Trial']"
   ]
  },
  {
   "cell_type": "code",
   "execution_count": 268,
   "metadata": {},
   "outputs": [],
   "source": [
    "result = result.pivot(index='Subscriber ID', columns='Event Date', values='Units').fillna(0)"
   ]
  },
  {
   "cell_type": "code",
   "execution_count": 269,
   "metadata": {},
   "outputs": [],
   "source": [
    "purchase_per_user = pd.DataFrame(result.sum(axis=1), columns=['number_of_purchases'])"
   ]
  },
  {
   "cell_type": "code",
   "execution_count": 270,
   "metadata": {},
   "outputs": [
    {
     "data": {
      "text/html": [
       "<div>\n",
       "<style scoped>\n",
       "    .dataframe tbody tr th:only-of-type {\n",
       "        vertical-align: middle;\n",
       "    }\n",
       "\n",
       "    .dataframe tbody tr th {\n",
       "        vertical-align: top;\n",
       "    }\n",
       "\n",
       "    .dataframe thead th {\n",
       "        text-align: right;\n",
       "    }\n",
       "</style>\n",
       "<table border=\"1\" class=\"dataframe\">\n",
       "  <thead>\n",
       "    <tr style=\"text-align: right;\">\n",
       "      <th></th>\n",
       "      <th>number_of_purchases</th>\n",
       "    </tr>\n",
       "    <tr>\n",
       "      <th>Subscriber ID</th>\n",
       "      <th></th>\n",
       "    </tr>\n",
       "  </thead>\n",
       "  <tbody>\n",
       "    <tr>\n",
       "      <th>223411322456765433</th>\n",
       "      <td>5.0</td>\n",
       "    </tr>\n",
       "    <tr>\n",
       "      <th>223411322456765434</th>\n",
       "      <td>5.0</td>\n",
       "    </tr>\n",
       "    <tr>\n",
       "      <th>223411322456765435</th>\n",
       "      <td>5.0</td>\n",
       "    </tr>\n",
       "    <tr>\n",
       "      <th>223411322456765437</th>\n",
       "      <td>5.0</td>\n",
       "    </tr>\n",
       "    <tr>\n",
       "      <th>223411322456765438</th>\n",
       "      <td>5.0</td>\n",
       "    </tr>\n",
       "    <tr>\n",
       "      <th>...</th>\n",
       "      <td>...</td>\n",
       "    </tr>\n",
       "    <tr>\n",
       "      <th>223411322456766731</th>\n",
       "      <td>1.0</td>\n",
       "    </tr>\n",
       "    <tr>\n",
       "      <th>223411322456766732</th>\n",
       "      <td>1.0</td>\n",
       "    </tr>\n",
       "    <tr>\n",
       "      <th>223411322456766734</th>\n",
       "      <td>1.0</td>\n",
       "    </tr>\n",
       "    <tr>\n",
       "      <th>223411322456766735</th>\n",
       "      <td>1.0</td>\n",
       "    </tr>\n",
       "    <tr>\n",
       "      <th>223411322456766736</th>\n",
       "      <td>1.0</td>\n",
       "    </tr>\n",
       "  </tbody>\n",
       "</table>\n",
       "<p>499 rows × 1 columns</p>\n",
       "</div>"
      ],
      "text/plain": [
       "                    number_of_purchases\n",
       "Subscriber ID                          \n",
       "223411322456765433                  5.0\n",
       "223411322456765434                  5.0\n",
       "223411322456765435                  5.0\n",
       "223411322456765437                  5.0\n",
       "223411322456765438                  5.0\n",
       "...                                 ...\n",
       "223411322456766731                  1.0\n",
       "223411322456766732                  1.0\n",
       "223411322456766734                  1.0\n",
       "223411322456766735                  1.0\n",
       "223411322456766736                  1.0\n",
       "\n",
       "[499 rows x 1 columns]"
      ]
     },
     "execution_count": 270,
     "metadata": {},
     "output_type": "execute_result"
    }
   ],
   "source": [
    "purchase_per_user"
   ]
  },
  {
   "cell_type": "code",
   "execution_count": 273,
   "metadata": {},
   "outputs": [],
   "source": [
    "purchases_per_week = purchase_per_user.groupby(['number_of_purchases']).agg(cnt=('number_of_purchases', len))"
   ]
  },
  {
   "cell_type": "code",
   "execution_count": 275,
   "metadata": {},
   "outputs": [],
   "source": [
    "purchases_per_week = purchases_per_week.reset_index()"
   ]
  },
  {
   "cell_type": "code",
   "execution_count": 277,
   "metadata": {},
   "outputs": [],
   "source": [
    "purchases_per_week['conv'] = purchases_per_week['number_of_purchases'] * purchases_per_week['cnt']"
   ]
  },
  {
   "cell_type": "code",
   "execution_count": 279,
   "metadata": {},
   "outputs": [
    {
     "data": {
      "text/plain": [
       "9.340012757605495"
      ]
     },
     "execution_count": 279,
     "metadata": {},
     "output_type": "execute_result"
    }
   ],
   "source": [
    "(purchases_per_week['conv'] * DEV_PRECEDS).sum() / len(data['Subscriber ID'].unique())"
   ]
  },
  {
   "cell_type": "code",
   "execution_count": null,
   "metadata": {},
   "outputs": [],
   "source": []
  }
 ],
 "metadata": {
  "kernelspec": {
   "display_name": "Python 3",
   "language": "python",
   "name": "python3"
  },
  "language_info": {
   "codemirror_mode": {
    "name": "ipython",
    "version": 3
   },
   "file_extension": ".py",
   "mimetype": "text/x-python",
   "name": "python",
   "nbconvert_exporter": "python",
   "pygments_lexer": "ipython3",
   "version": "3.8.6"
  }
 },
 "nbformat": 4,
 "nbformat_minor": 4
}
